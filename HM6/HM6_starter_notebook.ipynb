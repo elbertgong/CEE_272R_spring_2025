{
 "cells": [
  {
   "cell_type": "markdown",
   "metadata": {
    "id": "EWJ-hiw10L1e"
   },
   "source": [
    "## Transmission Economic Assessment with PyPSA-USA\n"
   ]
  },
  {
   "cell_type": "markdown",
   "metadata": {},
   "source": [
    "[![Open In Colab](https://colab.research.google.com/assets/colab-badge.svg)](https://colab.research.google.com/github/Stanford-Sustainable-Systems-Lab/CEE_272R_spring_2025/blob/main/HM6/HM6_starter_notebook.ipynb)"
   ]
  },
  {
   "cell_type": "markdown",
   "metadata": {
    "id": "nWVTmfPtaA3F"
   },
   "source": [
    "CEE 272R Spring 2025 Homework 6\\\n",
    "Assigned on 5/15/25, due at 11:59pm on Thursday, 5/22\\\n",
    "Written by Kamran Tehranchi & edited by Sonia, Mateus, and Fletcher\n",
    "\n",
    "We highly recommend running this notebook in Google Colab. While you may install PyPSA and run it locally by adjusting the file paths, you may encounter package incompatibilities.\n",
    "\n",
    "When you submit to Gradescope, please export the notebook as a PDF, including all code outputs.\\\n",
    "You should fill in all code blocks labeled \"#TODO\"."
   ]
  },
  {
   "cell_type": "markdown",
   "metadata": {
    "id": "yDaxhp1z0L1g"
   },
   "source": [
    "You are given a simplified network of the PyPSA-USA WECC network with the following characteristics:\n",
    "- 3 buses\n",
    "- 3 lines\n",
    "- 167 Generators (MW), listed below by fuel type\n",
    "```\n",
    "    CCGT          56915.400\n",
    "    OCGT          35345.100\n",
    "    coal          24395.000\n",
    "    geothermal     3914.200\n",
    "    hydro         52844.738\n",
    "    nuclear        7732.600\n",
    "    oil            1100.300\n",
    "    onwind        28557.900\n",
    "    solar         29108.000\n",
    "```\n",
    "- Peak Load (MW):\n",
    "```\n",
    "    CA    49420.22\n",
    "    PNW   17931.67\n",
    "    SW    30590.69\n",
    "```\n",
    "- Time-series data for 12 months Jan - Dec 2019\n",
    "\n",
    "Let's first install PyPSA and import the WECC network so we can visualize it. Run the next few code blocks to generate a plot of the nodes and existing lines."
   ]
  },
  {
   "cell_type": "markdown",
   "metadata": {
    "id": "QJNYtY390NtQ"
   },
   "source": [
    "Install dependencies"
   ]
  },
  {
   "cell_type": "code",
   "execution_count": null,
   "metadata": {
    "colab": {
     "base_uri": "https://localhost:8080/"
    },
    "id": "bf479Q6o0PHu",
    "outputId": "5117dd8a-13b9-4dcc-de2e-1262d5ff1cbc"
   },
   "outputs": [],
   "source": [
    "!pip install pypsa\n",
    "!pip install cartopy"
   ]
  },
  {
   "cell_type": "code",
   "execution_count": null,
   "metadata": {
    "colab": {
     "base_uri": "https://localhost:8080/"
    },
    "id": "oxyLDtgi2ios",
    "outputId": "e19f46f4-83be-4975-a0d6-99f31d34b977"
   },
   "outputs": [],
   "source": [
    "from google.colab import drive\n",
    "drive.mount('/content/drive')"
   ]
  },
  {
   "cell_type": "markdown",
   "metadata": {
    "id": "xH8Zhd4x0L1h"
   },
   "source": [
    "Import the network"
   ]
  },
  {
   "cell_type": "code",
   "execution_count": null,
   "metadata": {
    "colab": {
     "base_uri": "https://localhost:8080/"
    },
    "id": "6uMnNmCZ0L1i",
    "outputId": "095137e0-55b9-405d-e9a0-1bcbac4bf086"
   },
   "outputs": [],
   "source": [
    "import pypsa\n",
    "import matplotlib.pyplot as plt\n",
    "## Download the file 'wecc_homework6.nc' and upload it to the 'files' folder in Google Colab\n",
    "network = pypsa.Network('wecc_homework6.nc')"
   ]
  },
  {
   "cell_type": "markdown",
   "metadata": {
    "id": "WIHKtMNcZLfE"
   },
   "source": [
    "Plot a network visualization"
   ]
  },
  {
   "cell_type": "code",
   "execution_count": null,
   "metadata": {
    "colab": {
     "base_uri": "https://localhost:8080/",
     "height": 475
    },
    "id": "vPdVQ_Bx0L1j",
    "outputId": "26732b02-fd08-4d17-a5e1-2b54205c1003"
   },
   "outputs": [],
   "source": [
    "from pypsa.plot import add_legend_patches\n",
    "import cartopy.crs as ccrs\n",
    "import random\n",
    "\n",
    "carriers = network.generators.carrier.unique()\n",
    "colors = [\"#%06x\" % random.randint(0, 0xFFFFFF) for _ in carriers]\n",
    "network.madd(\"Carrier\", carriers, color=colors)\n",
    "\n",
    "fig = plt.figure()\n",
    "ax = plt.axes(projection=ccrs.EqualEarth())\n",
    "capacities = network.generators.groupby([\"bus\", \"carrier\"]).p_nom.sum()\n",
    "\n",
    "network.plot(\n",
    "    ax=ax,\n",
    "    bus_sizes=capacities / 2e5,\n",
    "    margin=0.2\n",
    ")\n",
    "\n",
    "add_legend_patches(ax, colors, carriers)"
   ]
  },
  {
   "cell_type": "markdown",
   "metadata": {
    "id": "9HIavVUiUmru"
   },
   "source": [
    "This network has realistic generator and load data from 2019.\n",
    "\n",
    "In this homework, we are going to go through the steps of assessing whether is makes economic sense to build an additional 230kV transmission line between California and the Southwest.\n",
    "\n",
    "To do this, we are going to compare load costs and adjusted production costs for the different regions in the model. This will help tell a story of who, if any stakeholders, profit from a new transmission line and who, if any, lose money from it.\n",
    "\n",
    "The goal of this assignment is to practice some Python coding, learn how to run a PyPSA network model and use some PyPSA functions, and analyze the results in the context of what we've learned about transmission grids.\n"
   ]
  },
  {
   "cell_type": "markdown",
   "metadata": {
    "id": "XhS-lqse0L1k"
   },
   "source": [
    "**Problem 1** (3 points)"
   ]
  },
  {
   "cell_type": "markdown",
   "metadata": {
    "id": "K8NyTs8SZBth"
   },
   "source": [
    "Simulate a sequential DCOPF of the current given network (i.e. simulate the network operation).\n",
    "\n",
    "Relevant documentation: https://pypsa.readthedocs.io/en/latest/components.html#network\n",
    "\n",
    "a)"
   ]
  },
  {
   "cell_type": "code",
   "execution_count": null,
   "metadata": {
    "colab": {
     "base_uri": "https://localhost:8080/"
    },
    "id": "RZWOCII-SE1z",
    "outputId": "920d7a0d-979e-4f22-9275-e828d35eb1f9"
   },
   "outputs": [],
   "source": [
    "#TODO\n"
   ]
  },
  {
   "cell_type": "markdown",
   "metadata": {
    "id": "pSCwaVarZs9s"
   },
   "source": [
    "Create a labeled time-series plot of the Locational Marginal Prices (LMPs) for the first week of January, 2019.\n",
    "\n",
    "Relevant documentation: https://pypsa.readthedocs.io/en/latest/components.html#bus\n",
    "\n",
    "b)"
   ]
  },
  {
   "cell_type": "code",
   "execution_count": null,
   "metadata": {
    "id": "HwNIjRo4ZtRM"
   },
   "outputs": [],
   "source": [
    "#TODO\n"
   ]
  },
  {
   "cell_type": "markdown",
   "metadata": {
    "id": "thxQjVrg5gac"
   },
   "source": [
    "Run the code block below to get a visualization of the dispatch by fuel type for the first week"
   ]
  },
  {
   "cell_type": "code",
   "execution_count": null,
   "metadata": {
    "id": "dZQQXBqz0L1l"
   },
   "outputs": [],
   "source": [
    "#Dispatch plot of first week\n",
    "nhours = 24*7\n",
    "fig, ax = plt.subplots(figsize=(20, 5))\n",
    "p_by_carrier = network.generators_t.p.groupby(network.generators.carrier, axis=1).sum().div(1e3).iloc[:nhours]\n",
    "p_by_carrier.plot(\n",
    "    kind=\"area\",\n",
    "    ax=ax,\n",
    "    linewidth=0,\n",
    "    cmap=\"tab20b\",\n",
    ")\n",
    "ax.legend(ncol=5, loc=\"upper left\", frameon=False)\n",
    "ax.set_ylabel(\"GW\")"
   ]
  },
  {
   "cell_type": "markdown",
   "metadata": {
    "id": "MdAiyv4T0L1l"
   },
   "source": [
    "**Problem 2** (4 points)\n",
    "Next we will calculate Load Costs and Adjusted Production Cost (APC) for California and then the rest of WECC prior to expanding the line. Report all costs in Millions of Dollars.\n",
    "\n",
    "\n",
    "You will write the code to calculate load costs yourself, but we provide the APC model. If you're curious, the model is below:\n",
    "\\begin{align*}\n",
    "\\text{Regional Adjusted Production Cost (APC)} &= \\text{Production Cost} + \\text{Purchases} - \\text{Sales} &\\\\\n",
    "\\text{Production Cost} &= \\sum_t^T \\sum_g^G ( \\text{P}_{g,t} \\times \\text{O}_{g,t} ) &\\\\\n",
    "\\text{Purchases} &= \\sum_t^T (\\text{Imports}_t \\times \\text{Load Weighted LMP}_t) &\\\\\n",
    "\\text{Sales} &= \\sum_t^T (\\text{Exports}_t \\times \\text{Generation Weighted LMP}_t) &\\\\\n",
    "\\text{Load Weighted LMP}_t &= \\frac{\\sum_{n} \\text{Load Costs}_{n,t} }{\\sum_{n} \\text{Load}_{n,t}}  \\quad \\forall \\quad n \\in region &\\\\\n",
    "\\text{Generation Weighted LMP}_t &= \\frac{\\sum_{n} \\text{Generation Revenue}_{n,t} }{\\sum_{n} \\text{Generation}_{n,t} } \\quad \\forall \\quad n \\in region &\\\\\n",
    "\\quad &\\\\\n",
    "\\text{where} \\quad\n",
    "\\text{P: Active power generation of Generator g} &\\\\\n",
    "\\text{O: Operational/Marginal Cost of Generator g} &\n",
    "\\end{align*}\n"
   ]
  },
  {
   "cell_type": "markdown",
   "metadata": {
    "id": "GwyMKN3lIMWA"
   },
   "source": [
    "First, calculate the load costs for California only, reporting one value in millions of $. You'll first write a line of code to find all load costs, then report for CA only.\n",
    "\n",
    "a)"
   ]
  },
  {
   "cell_type": "code",
   "execution_count": null,
   "metadata": {
    "id": "6U5UOgng0L1m"
   },
   "outputs": [],
   "source": [
    "# TODO: calculate load costs for CA (fill in both variables below)\n",
    "load_costs =\n",
    "load_costs_ca =\n",
    "print('Load Costs CA [millions of $]: ', load_costs_ca / 1e6)"
   ]
  },
  {
   "cell_type": "markdown",
   "metadata": {
    "id": "q1ZvIFXwJ2wy"
   },
   "source": [
    "Run the code below to calculate APC for California:"
   ]
  },
  {
   "cell_type": "code",
   "execution_count": null,
   "metadata": {
    "id": "YhdP4wkN0L1m"
   },
   "outputs": [],
   "source": [
    "# Calculate APC for California, report one #:\n",
    "exports = network.lines_t.p0.where(network.lines_t.p0 > 0, 0) #\n",
    "imports = network.lines_t.p0.where(network.lines_t.p0 < 0, 0) * -1\n",
    "generator_production_by_node = network.generators_t.p.groupby(network.generators.bus, axis=1).sum()\n",
    "# Production Cost\n",
    "production_costs = network.generators_t.p * network.generators.marginal_cost\n",
    "production_costs_ca = production_costs.groupby(network.generators.bus, axis=1).sum()['CA']\n",
    "\n",
    "# Purchases\n",
    "load_weighted_lmp_ca = load_costs['CA'] / network.loads_t.p_set['CA']\n",
    "generator_revenue_ca = generator_production_by_node['CA'] * network.buses_t.marginal_price['CA']\n",
    "gen_weighted_lmp_ca = generator_revenue_ca / generator_production_by_node['CA']\n",
    "\n",
    "purchases_ca = imports['CA-PNW'] * load_weighted_lmp_ca + imports['CA-SW'] * load_weighted_lmp_ca\n",
    "sales_ca = exports['CA-PNW'] * gen_weighted_lmp_ca + exports['CA-SW'] * gen_weighted_lmp_ca\n",
    "\n",
    "APC_ca = production_costs_ca + purchases_ca - sales_ca\n",
    "\n",
    "print(\"Adjusted Production Cost: \", APC_ca.sum() / 1e6)\n",
    "print(\"Production Cost: \", production_costs_ca.sum() / 1e6)\n",
    "print(\"Sales: \", sales_ca.sum() / 1e6)\n",
    "print(\"Purchases: \",purchases_ca.sum() / 1e6)\n"
   ]
  },
  {
   "cell_type": "markdown",
   "metadata": {
    "id": "WOpARYzS0L1n"
   },
   "source": [
    "Next, calculate load costs for WECC *not including California* prior to expanding the line.\n",
    "\n",
    "b)\n"
   ]
  },
  {
   "cell_type": "code",
   "execution_count": null,
   "metadata": {
    "id": "zTvv5Fax0L1n"
   },
   "outputs": [],
   "source": [
    "# TODO: calculate load Costs for Non-CA, report one number in millions of $:\n",
    "load_costs_wecc =\n",
    "print('Load Costs [millions of $]: ', load_costs_wecc / 1e6)\n"
   ]
  },
  {
   "cell_type": "markdown",
   "metadata": {
    "id": "45x18Vb5KcKY"
   },
   "source": [
    "Run the code below to calculate APC for WECC not including California:"
   ]
  },
  {
   "cell_type": "code",
   "execution_count": null,
   "metadata": {
    "id": "fRndP9cg0L1n"
   },
   "outputs": [],
   "source": [
    "#Calculate APC for Non-CA:\n",
    "# Production Cost\n",
    "production_costs = network.generators_t.p * network.generators.marginal_cost\n",
    "production_costs_wecc = production_costs.groupby(network.generators.bus, axis=1).sum()[['PNW','SW']].sum().sum()\n",
    "\n",
    "# Purchases\n",
    "load_weighted_lmp_wecc = load_costs[['PNW','SW']].sum(axis=1) / network.loads_t.p_set[['PNW','SW']].sum(axis=1)\n",
    "generator_revenue_wecc = generator_production_by_node[['PNW','SW']] * network.buses_t.marginal_price[['PNW','SW']]\n",
    "generator_revenue_wecc = generator_revenue_wecc.sum(axis=1)\n",
    "gen_weighted_lmp_wecc = generator_revenue_wecc / generator_production_by_node[['PNW','SW']].sum(axis=1)\n",
    "\n",
    "purchases_wecc = exports['CA-PNW'] * load_weighted_lmp_wecc + exports['CA-SW'] * load_weighted_lmp_wecc\n",
    "sales_wecc = imports['CA-PNW'] * gen_weighted_lmp_wecc + imports['CA-SW'] * gen_weighted_lmp_wecc\n",
    "\n",
    "APC_wecc = production_costs_wecc + purchases_wecc.sum() - sales_wecc.sum()\n",
    "\n",
    "print(\"Adjusted Production Cost: \", APC_wecc.sum() / 1e6)\n",
    "print(\"Production Cost: \", production_costs_wecc.sum() / 1e6)\n",
    "print(\"Sales: \", sales_wecc.sum() / 1e6)\n",
    "print(\"Purchases: \",purchases_wecc.sum() / 1e6)"
   ]
  },
  {
   "cell_type": "markdown",
   "metadata": {
    "id": "mV9Nf1p_0L1o"
   },
   "source": [
    "**Problem 3** (3 points) Add the line to the network and re-simulate the network.\n",
    "\n",
    "a)"
   ]
  },
  {
   "cell_type": "code",
   "execution_count": null,
   "metadata": {
    "id": "ri5mtWH30L1o"
   },
   "outputs": [],
   "source": [
    "line_name = \"CA-SW_newline\"\n",
    "bus0 = 'CA'\n",
    "bus1 = 'SW'\n",
    "reactance = 0.1 # Ohm\n",
    "transfer_capacity = 2000 # MW (s_nom)"
   ]
  },
  {
   "cell_type": "code",
   "execution_count": null,
   "metadata": {
    "id": "Atuy7f560L1p"
   },
   "outputs": [],
   "source": [
    "# TODO: Add the line by filling in the missing parameters here:\n",
    "network.add(\n",
    "    \"Line\",\n",
    "    line_name,\n",
    "    # insert,\n",
    "    # insert,\n",
    "    # insert,\n",
    "    # insert,\n",
    ")"
   ]
  },
  {
   "cell_type": "markdown",
   "metadata": {
    "id": "B57LoPisPlc9"
   },
   "source": [
    "b)"
   ]
  },
  {
   "cell_type": "code",
   "execution_count": null,
   "metadata": {
    "id": "YZbXWlBq0L1q"
   },
   "outputs": [],
   "source": [
    "#TODO: simulate network with new line\n"
   ]
  },
  {
   "cell_type": "markdown",
   "metadata": {
    "id": "xjwpArRkMUIE"
   },
   "source": [
    "**Problem 4** (4 points)"
   ]
  },
  {
   "cell_type": "markdown",
   "metadata": {
    "id": "Wkp4JJzu0L1q"
   },
   "source": [
    "Calculate the new load costs and APC for California\n",
    "\n",
    "a)"
   ]
  },
  {
   "cell_type": "code",
   "execution_count": null,
   "metadata": {
    "id": "9ppLCXes0L1q"
   },
   "outputs": [],
   "source": [
    "#TODO - set load_costs and load_costs_ca_new variables\n",
    "load_costs =\n",
    "load_costs_ca_new  =\n",
    "print('Load Costs CA [millions of $]: ', load_costs_ca_new / 1e6)\n"
   ]
  },
  {
   "cell_type": "code",
   "execution_count": null,
   "metadata": {
    "id": "2I5cqMhM0L1r"
   },
   "outputs": [],
   "source": [
    "# Calculate APC for California, report one #:\n",
    "# Production Cost\n",
    "exports = network.lines_t.p0.where(network.lines_t.p0 > 0, 0) #\n",
    "imports = network.lines_t.p0.where(network.lines_t.p0 < 0, 0) * -1\n",
    "generator_production_by_node = network.generators_t.p.groupby(network.generators.bus, axis=1).sum()\n",
    "production_costs = network.generators_t.p * network.generators.marginal_cost\n",
    "production_costs_ca = production_costs.groupby(network.generators.bus, axis=1).sum()['CA']\n",
    "\n",
    "# Purchases\n",
    "load_weighted_lmp_ca = load_costs['CA'] / network.loads_t.p_set['CA']\n",
    "generator_revenue_ca = generator_production_by_node['CA'] * network.buses_t.marginal_price['CA']\n",
    "gen_weighted_lmp_ca = generator_revenue_ca / generator_production_by_node['CA']\n",
    "\n",
    "purchases_ca = imports['CA-PNW'] * load_weighted_lmp_ca + imports['CA-SW'] * load_weighted_lmp_ca + imports['CA-SW_newline'] * load_weighted_lmp_ca\n",
    "sales_ca = exports['CA-PNW'] * gen_weighted_lmp_ca + exports['CA-SW'] * gen_weighted_lmp_ca + exports['CA-SW_newline'] * gen_weighted_lmp_ca\n",
    "\n",
    "APC_ca_new = production_costs_ca + purchases_ca - sales_ca\n",
    "\n",
    "print(\"Adjusted Production Cost: \", APC_ca_new.sum() / 1e6)\n",
    "print(\"Production Cost: \", production_costs_ca.sum() / 1e6)\n",
    "print(\"Sales: \", sales_ca.sum() / 1e6)\n",
    "print(\"Purchases: \",purchases_ca.sum() / 1e6)"
   ]
  },
  {
   "cell_type": "markdown",
   "metadata": {
    "id": "iPMzuY8X0L1r"
   },
   "source": [
    "Repeat for non-CA WECC load costs and APC\n",
    "\n",
    "b)"
   ]
  },
  {
   "cell_type": "code",
   "execution_count": null,
   "metadata": {
    "id": "Zt-oXlYB0L1r"
   },
   "outputs": [],
   "source": [
    "# TODO: calculate load Costs for Non-CA, report one number in millions of $:\n",
    "load_costs_wecc_new =\n",
    "print('Load Costs [millions of $]: ', load_costs_wecc_new / 1e6)\n"
   ]
  },
  {
   "cell_type": "code",
   "execution_count": null,
   "metadata": {
    "id": "89vgU78p0L1s"
   },
   "outputs": [],
   "source": [
    "#Calculate APC for Non-CA:\n",
    "# Production Cost\n",
    "production_costs = network.generators_t.p * network.generators.marginal_cost\n",
    "production_costs_wecc = production_costs.groupby(network.generators.bus, axis=1).sum()[['PNW','SW']].sum().sum()\n",
    "\n",
    "# Purchases\n",
    "load_weighted_lmp_wecc = load_costs[['PNW','SW']].sum(axis=1) / network.loads_t.p_set[['PNW','SW']].sum(axis=1)\n",
    "generator_revenue_wecc = generator_production_by_node[['PNW','SW']] * network.buses_t.marginal_price[['PNW','SW']]\n",
    "generator_revenue_wecc = generator_revenue_wecc.sum(axis=1)\n",
    "gen_weighted_lmp_wecc = generator_revenue_wecc / generator_production_by_node[['PNW','SW']].sum(axis=1)\n",
    "\n",
    "purchases_wecc = exports['CA-PNW'] * load_weighted_lmp_wecc + exports['CA-SW'] * load_weighted_lmp_wecc + exports['CA-SW_newline'] * load_weighted_lmp_wecc\n",
    "sales_wecc = imports['CA-PNW'] * gen_weighted_lmp_wecc + imports['CA-SW'] * gen_weighted_lmp_wecc + imports['CA-SW_newline'] * gen_weighted_lmp_wecc\n",
    "\n",
    "APC_wecc_new = production_costs_wecc + purchases_wecc.sum() - sales_wecc.sum()\n",
    "\n",
    "print(\"Adjusted Production Cost: \", APC_wecc_new.sum() / 1e6)\n",
    "print(\"Production Cost: \", production_costs_wecc.sum() / 1e6)\n",
    "print(\"Sales: \", sales_wecc.sum() / 1e6)\n",
    "print(\"Purchases: \",purchases_wecc.sum() / 1e6)"
   ]
  },
  {
   "cell_type": "markdown",
   "metadata": {
    "id": "HK33FZ3m0L1s"
   },
   "source": [
    "Problem 5 (5 points) Now we'll conduct Cost Benefit Analysis to determine if the transmission line should be built. First, we assume we only care about the benefits within California.\n",
    "\n",
    "Here are some assumptions:\n",
    "- Weight 70\\% benefits of load and 30\\% benefits of APC\n",
    "- Assume the same savings patterns occur over the lifetime of the transmission line\n",
    "- Assume the capital cost of the transmission line is incurred overnight and there is no fixed or variable O&M for the line over its lifetime.\n",
    "- Interest rate 5\\%\n",
    "- Transmission line has assumed lifetime of 50 years & overnight capital cost of 1e9\n"
   ]
  },
  {
   "cell_type": "markdown",
   "metadata": {
    "id": "puoi7u02LM8U"
   },
   "source": [
    "We will provide the function for annualized cost:"
   ]
  },
  {
   "cell_type": "code",
   "execution_count": null,
   "metadata": {
    "id": "Sd_yBeEc0L1s"
   },
   "outputs": [],
   "source": [
    "#Calculate Annualized Cost of the line:\n",
    "def annualized_cost(capital_cost, lifetime, interest_rate):\n",
    "    return capital_cost * (interest_rate * (1 + interest_rate) ** lifetime) / ((1 + interest_rate) ** lifetime - 1)"
   ]
  },
  {
   "cell_type": "markdown",
   "metadata": {
    "id": "gFldQx_NLawM"
   },
   "source": [
    "To find the cost benefit for CA, first calculate savings between the no new line and new line case for load costs and APC, then apply the weightings provided above to those savings. Call the annualized cost function from above to find \"cost_annual\" and calculate the overall cost benefit.\n",
    "\n",
    "Each \"savings\" variable should be a scalar.\n",
    "\n",
    "a)"
   ]
  },
  {
   "cell_type": "code",
   "execution_count": null,
   "metadata": {
    "id": "cW05hoz30L1s"
   },
   "outputs": [],
   "source": [
    "#TODO: Cost Benefit Analysis\n",
    "savings_ca_load =\n",
    "savings_apc_ca =\n",
    "economic_benefit_ca =\n",
    "print(\"Load Savings CA: \", savings_ca_load / 1e6)\n",
    "print(\"APC Savings CA: \", savings_apc_ca/ 1e6)\n",
    "print(\"Annual Economic Benefit CA: \", economic_benefit_ca / 1e6)\n",
    "\n",
    "cost_annual =\n",
    "cost_benefit_ca = (cost_annual /1e6) + (economic_benefit_ca / 1e6)\n",
    "print(\"Cost-Benefit CA: \", cost_benefit_ca)\n"
   ]
  },
  {
   "cell_type": "markdown",
   "metadata": {
    "id": "ct0TNpjfQAID"
   },
   "source": [
    "Comment on what this means for CA. Negative values indicated decreases in costs.\n",
    "\n",
    "b)"
   ]
  },
  {
   "cell_type": "code",
   "execution_count": null,
   "metadata": {
    "id": "fEQWjWyRQLVg"
   },
   "outputs": [],
   "source": [
    "#TODO\n",
    "#comment on results"
   ]
  },
  {
   "cell_type": "markdown",
   "metadata": {
    "id": "mKitRy2A0L1t"
   },
   "source": [
    "Now we'll analyze whether this answer changes if we include the costs/benefits of all of WECC.\n",
    "\n",
    "Run the cost benefit analysis for non-WECC buses then find the total cost benefit.\n",
    "\n",
    "c)"
   ]
  },
  {
   "cell_type": "code",
   "execution_count": null,
   "metadata": {
    "id": "iSw8hz360L1t"
   },
   "outputs": [],
   "source": [
    "#TODO: Cost Benefit Analysis:\n",
    "savings_wecc_load =\n",
    "savings_apc_wecc =\n",
    "economic_benefit_wecc =\n",
    "print(\"Load Savings WECC: \", savings_wecc_load / 1e6)\n",
    "print(\"APC Savings WECC: \", savings_apc_wecc / 1e6)\n",
    "print(\"Economic Benefit WECC: \", economic_benefit_wecc / 1e6)\n",
    "print(\"Negative Savings values indicate decrease in cost \\n\")\n",
    "\n",
    "cost_benefit_total = (cost_annual /1e6) + ((economic_benefit_wecc + economic_benefit_ca) / 1e6)\n",
    "print(\"Total System Cost-Benefit: \", cost_benefit_total)\n",
    "print(\"Total Cost increases for WECC due to increase in total production cost and load costs.\")"
   ]
  },
  {
   "cell_type": "markdown",
   "metadata": {
    "id": "VdLhFnO10L1t"
   },
   "source": [
    "Comment on these results. What does this say overall about adding a new line?\n",
    "\n",
    "d)"
   ]
  },
  {
   "cell_type": "code",
   "execution_count": null,
   "metadata": {
    "id": "Mam1DCZ_Q1ys"
   },
   "outputs": [],
   "source": [
    "#TODO comment on all results"
   ]
  },
  {
   "cell_type": "markdown",
   "metadata": {
    "id": "3QP5equa0L1u"
   },
   "source": [
    "**Problem 6** (1 point) In the above method we used production cost simulation to estimate the benefits of the transmission expansion.\n",
    "Now, we are going to let PyPSA-USA determine the optimal capacity of the line via use capacity expansion methods.\n",
    "\n",
    " You can assume linear relationship between capital cost of transmission and nominal capacity of the line.\n",
    "\n",
    "What is the optimal capacity of the line? (There's just one line of code you have to add here.) Notice the s_nom_extendable feature; this allows the nominal complex power of the line to expand."
   ]
  },
  {
   "cell_type": "code",
   "execution_count": null,
   "metadata": {
    "id": "mNsfdv9mN70X"
   },
   "outputs": [],
   "source": [
    "\n",
    "network = pypsa.Network('wecc_homework6.nc')\n",
    "network.add(\n",
    "    \"Line\",\n",
    "    line_name,\n",
    "    bus0=bus0,\n",
    "    bus1=bus1,\n",
    "    x=reactance,\n",
    "    s_nom=0,\n",
    "    capital_cost= cost_annual / transfer_capacity,\n",
    "    s_nom_extendable=True,\n",
    ")"
   ]
  },
  {
   "cell_type": "markdown",
   "metadata": {
    "id": "-WeFCjc_N99_"
   },
   "source": [
    "Rerun the network simulation:"
   ]
  },
  {
   "cell_type": "code",
   "execution_count": null,
   "metadata": {
    "id": "0O8nus_CODyF"
   },
   "outputs": [],
   "source": [
    "#TODO\n"
   ]
  },
  {
   "cell_type": "markdown",
   "metadata": {
    "id": "mSn_SVlIOFU_"
   },
   "source": [
    "Run the code below to print out all of the line capacities:"
   ]
  },
  {
   "cell_type": "code",
   "execution_count": null,
   "metadata": {
    "id": "vqAFZ8vaOK6A"
   },
   "outputs": [],
   "source": [
    "network.lines.s_nom_opt"
   ]
  }
 ],
 "metadata": {
  "colab": {
   "provenance": []
  },
  "kernelspec": {
   "display_name": "pypsa-usa",
   "language": "python",
   "name": "python3"
  },
  "language_info": {
   "codemirror_mode": {
    "name": "ipython",
    "version": 3
   },
   "file_extension": ".py",
   "mimetype": "text/x-python",
   "name": "python",
   "nbconvert_exporter": "python",
   "pygments_lexer": "ipython3",
   "version": "3.11.6"
  }
 },
 "nbformat": 4,
 "nbformat_minor": 0
}
